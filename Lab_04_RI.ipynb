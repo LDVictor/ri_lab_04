{
  "nbformat": 4,
  "nbformat_minor": 0,
  "metadata": {
    "colab": {
      "name": "Lab_04_RI.ipynb",
      "version": "0.3.2",
      "provenance": [],
      "collapsed_sections": []
    },
    "kernelspec": {
      "name": "python3",
      "display_name": "Python 3"
    }
  },
  "cells": [
    {
      "cell_type": "code",
      "metadata": {
        "id": "ExL1mOdL3H4S",
        "colab_type": "code",
        "outputId": "8b4eddf9-b31d-454a-db96-2a856d0e4900",
        "colab": {
          "base_uri": "https://localhost:8080/",
          "height": 85
        }
      },
      "source": [
        "# Imports\n",
        "import csv\n",
        "import pandas as pd\n",
        "import nltk\n",
        "import re\n",
        "import collections\n",
        "import matplotlib.pyplot as plt\n",
        "import seaborn as sns\n",
        "from nltk.tokenize import RegexpTokenizer\n",
        "from nltk.stem import PorterStemmer \n",
        "from nltk.tokenize import word_tokenize\n",
        "from nltk.corpus import stopwords\n",
        "nltk.download('stopwords')\n",
        "nltk.download('rslp')\n",
        "import matplotlib.pyplot as plt\n",
        "import heapq\n",
        "import time"
      ],
      "execution_count": 2,
      "outputs": [
        {
          "output_type": "stream",
          "text": [
            "[nltk_data] Downloading package stopwords to /root/nltk_data...\n",
            "[nltk_data]   Package stopwords is already up-to-date!\n",
            "[nltk_data] Downloading package rslp to /root/nltk_data...\n",
            "[nltk_data]   Package rslp is already up-to-date!\n"
          ],
          "name": "stdout"
        }
      ]
    },
    {
      "cell_type": "code",
      "metadata": {
        "id": "ZEmsgxR33Xk2",
        "colab_type": "code",
        "colab": {}
      },
      "source": [
        "# Lendo o CSV\n",
        "colecao = pd.read_csv('https://raw.githubusercontent.com/LDVictor/ri_lab_01/master/output/results.csv')\n",
        "colecao = colecao.astype(str)\n",
        "documentos = colecao['texto']"
      ],
      "execution_count": 0,
      "outputs": []
    },
    {
      "cell_type": "markdown",
      "metadata": {
        "id": "JIp9PJAf3Yet",
        "colab_type": "text"
      },
      "source": [
        "# Laboratório 04: Indexação e Processamento de Consulta"
      ]
    },
    {
      "cell_type": "markdown",
      "metadata": {
        "id": "vi8AlEIn4hLB",
        "colab_type": "text"
      },
      "source": [
        "# Questão 1"
      ]
    },
    {
      "cell_type": "markdown",
      "metadata": {
        "id": "MoT8ShrD4lO3",
        "colab_type": "text"
      },
      "source": [
        "Execute o algoritmo ilustrado na Fig. 5.8 do livro texto (pag. 157) para gerar um índice similar o mostrado na Fig. 5.4 (pag. 134). Guarde o índice em disco em formato csv."
      ]
    },
    {
      "cell_type": "code",
      "metadata": {
        "id": "S1x0H94yC-nL",
        "colab_type": "code",
        "colab": {}
      },
      "source": [
        "stopwords = stopwords.words(\"portuguese\")\n",
        "tokenizador = RegexpTokenizer(r'\\b[A-zÀ-ú\\d\\-\\']+')\n",
        "indices = {}\n",
        "n = 0\n",
        "\n",
        "for documento in documentos:\n",
        "    n += 1\n",
        "    tokens = tokenizador.tokenize(documento.lower())\n",
        "    for token in set(tokens):\n",
        "        if (token not in stopwords and len(token) >= 2):\n",
        "            contador = (n, tokens.count(token))\n",
        "            if (token not in indices.keys()):\n",
        "                  indices[token] = []\n",
        "                  indices[token].append(contador)\n",
        "            else:\n",
        "                  indices[token].append(contador)"
      ],
      "execution_count": 0,
      "outputs": []
    },
    {
      "cell_type": "code",
      "metadata": {
        "id": "WOyIEBbcGT5v",
        "colab_type": "code",
        "colab": {}
      },
      "source": [
        "# Guardando o indice em formato CSV\n",
        "inverted_index_df = pd.DataFrame.from_dict(indices, orient=\"index\")\n",
        "inverted_index_df.to_csv('data.csv')\n",
        "indices = indices"
      ],
      "execution_count": 0,
      "outputs": []
    },
    {
      "cell_type": "markdown",
      "metadata": {
        "id": "CkYf04WaHmWg",
        "colab_type": "text"
      },
      "source": [
        "# Questão 2"
      ]
    },
    {
      "cell_type": "markdown",
      "metadata": {
        "id": "lq-jRsGIHpkH",
        "colab_type": "text"
      },
      "source": [
        "Implemente as abordagens de processamento de consulta documento-por-vez e termo-por-vez.\n",
        "\n",
        "\n",
        "1.   Defina 5 consultas de um termo somente.\n",
        "2.   Execute as 5 consultas em cada algoritmo retornando os top-10 documentos (parâmetro k do algoritmo).\n",
        "3.   Dê evidências de que sua implementação está correta.\n",
        "4.   Compare os tempos médios de execução e uso de memória de cada algoritmo."
      ]
    },
    {
      "cell_type": "code",
      "metadata": {
        "id": "m0DHQDfjIN5M",
        "colab_type": "code",
        "colab": {
          "base_uri": "https://localhost:8080/",
          "height": 187
        },
        "outputId": "bce8c582-8d9a-4c3c-d356-97d410834a58"
      },
      "source": [
        "# Funcao que implementa a consulta documento-por-vez\n",
        "def documentoPorVez(consulta, indices, k):\n",
        "    listas_invertidas = []\n",
        "    r = []\n",
        "    for palavra in consulta.split(\" \"):\n",
        "        if palavra in indices.keys():\n",
        "            listas_invertidas.append(indices[palavra])\n",
        "    for documento in range(1, len(documentos)+1):\n",
        "        sd = 0\n",
        "        for lista_invertida in listas_invertidas:\n",
        "            for i in lista_invertida:\n",
        "                if (i[0] == documento): \n",
        "                    sd += i[1]\n",
        "                    break\n",
        "        if (sd != 0):\n",
        "          heapq.heappush(r, (sd, documento))\n",
        "    return heapq.nlargest(k, r)\n",
        " \n",
        "# Exemplo\n",
        "documentoPorVez(\"bolsonaro\", indices, 10)  "
      ],
      "execution_count": 7,
      "outputs": [
        {
          "output_type": "execute_result",
          "data": {
            "text/plain": [
              "[(24, 100),\n",
              " (18, 70),\n",
              " (16, 66),\n",
              " (14, 252),\n",
              " (11, 179),\n",
              " (11, 103),\n",
              " (11, 20),\n",
              " (10, 16),\n",
              " (9, 220),\n",
              " (9, 130)]"
            ]
          },
          "metadata": {
            "tags": []
          },
          "execution_count": 7
        }
      ]
    },
    {
      "cell_type": "code",
      "metadata": {
        "id": "vd5Pjc1NKy3r",
        "colab_type": "code",
        "colab": {
          "base_uri": "https://localhost:8080/",
          "height": 187
        },
        "outputId": "515bb448-f360-4087-f6c0-0e343feb8315"
      },
      "source": [
        "# Funcao que implementa a consulta termo-por-vez    \n",
        "def termoPorVez(consulta, indices, k):\n",
        "    a = {}\n",
        "    listas_invertidas = []\n",
        "    r = []\n",
        "    for palavra in consulta.split(\" \"):\n",
        "        if palavra in indices.keys():\n",
        "            listas_invertidas.append(indices[palavra])\n",
        "    for lista_invertida in listas_invertidas:\n",
        "        for p in lista_invertida:\n",
        "            d = p[0]\n",
        "            freq = p[1]\n",
        "            if (d in a.keys()):\n",
        "                a[d] += freq\n",
        "            else:\n",
        "                a[d] = freq\n",
        "    for (d, ad) in a.items():\n",
        "        sd = ad\n",
        "        heapq.heappush(r, (sd, d))\n",
        "    return heapq.nlargest(k, r)\n",
        "  \n",
        "# Exemplo  \n",
        "termoPorVez(\"bolsonaro\", indices, 10)"
      ],
      "execution_count": 8,
      "outputs": [
        {
          "output_type": "execute_result",
          "data": {
            "text/plain": [
              "[(24, 100),\n",
              " (18, 70),\n",
              " (16, 66),\n",
              " (14, 252),\n",
              " (11, 179),\n",
              " (11, 103),\n",
              " (11, 20),\n",
              " (10, 16),\n",
              " (9, 220),\n",
              " (9, 130)]"
            ]
          },
          "metadata": {
            "tags": []
          },
          "execution_count": 8
        }
      ]
    },
    {
      "cell_type": "code",
      "metadata": {
        "id": "k8JHs69jK3rH",
        "colab_type": "code",
        "colab": {}
      },
      "source": [
        " # Definindo consultas\n",
        "  \n",
        "consultas = [\"presidente\", \"educação\", \"privatização\", \"empresa\", \"bolsonaro\"]"
      ],
      "execution_count": 0,
      "outputs": []
    },
    {
      "cell_type": "code",
      "metadata": {
        "id": "qoI_mWhuLEaf",
        "colab_type": "code",
        "colab": {}
      },
      "source": [
        "# Executando as consultas \n",
        "\n",
        "resultados_documento = []\n",
        "resultados_termo = []\n",
        "resultados_documento_tempo = []\n",
        "resultados_termo_tempo = []\n",
        "k = 10\n",
        "\n",
        "for consulta in consultas:\n",
        "  inicio_documento = time.time()\n",
        "  resultados_documento.append(documentoPorVez(consulta, indices, k))\n",
        "  fim_documento = time.time()\n",
        "  resultados_documento_tempo.append(fim_documento - inicio_documento)\n",
        "  \n",
        "  inicio_termo = time.time()\n",
        "  resultados_termo.append(termoPorVez(consulta, indices, k))\n",
        "  fim_termo = time.time()\n",
        "  resultados_termo_tempo.append(fim_termo - inicio_termo)\n"
      ],
      "execution_count": 0,
      "outputs": []
    },
    {
      "cell_type": "code",
      "metadata": {
        "id": "r1NwXh10NUa8",
        "colab_type": "code",
        "colab": {
          "base_uri": "https://localhost:8080/",
          "height": 204
        },
        "outputId": "8031bfb8-e765-4586-9631-f37d4b6dc226"
      },
      "source": [
        "# Criando e imprimindo a tabela com os dados dos documentos\n",
        "\n",
        "tabela_consultas = pd.DataFrame()\n",
        "tabela_consultas['consulta'] = consultas\n",
        "tabela_consultas['documento_por_vez'] = resultados_documento\n",
        "tabela_consultas['termo_por_vez'] = resultados_termo\n",
        "tabela_consultas['comparacao'] = tabela_consultas.documento_por_vez == tabela_consultas.termo_por_vez\n",
        "tabela_consultas"
      ],
      "execution_count": 11,
      "outputs": [
        {
          "output_type": "execute_result",
          "data": {
            "text/html": [
              "<div>\n",
              "<style scoped>\n",
              "    .dataframe tbody tr th:only-of-type {\n",
              "        vertical-align: middle;\n",
              "    }\n",
              "\n",
              "    .dataframe tbody tr th {\n",
              "        vertical-align: top;\n",
              "    }\n",
              "\n",
              "    .dataframe thead th {\n",
              "        text-align: right;\n",
              "    }\n",
              "</style>\n",
              "<table border=\"1\" class=\"dataframe\">\n",
              "  <thead>\n",
              "    <tr style=\"text-align: right;\">\n",
              "      <th></th>\n",
              "      <th>consulta</th>\n",
              "      <th>documento_por_vez</th>\n",
              "      <th>termo_por_vez</th>\n",
              "      <th>comparacao</th>\n",
              "    </tr>\n",
              "  </thead>\n",
              "  <tbody>\n",
              "    <tr>\n",
              "      <th>0</th>\n",
              "      <td>presidente</td>\n",
              "      <td>[(20, 16), (13, 140), (9, 138), (9, 130), (9, ...</td>\n",
              "      <td>[(20, 16), (13, 140), (9, 138), (9, 130), (9, ...</td>\n",
              "      <td>True</td>\n",
              "    </tr>\n",
              "    <tr>\n",
              "      <th>1</th>\n",
              "      <td>educação</td>\n",
              "      <td>[(9, 218), (3, 195), (2, 177), (2, 89), (1, 25...</td>\n",
              "      <td>[(9, 218), (3, 195), (2, 177), (2, 89), (1, 25...</td>\n",
              "      <td>True</td>\n",
              "    </tr>\n",
              "    <tr>\n",
              "      <th>2</th>\n",
              "      <td>privatização</td>\n",
              "      <td>[(1, 245), (1, 221), (1, 204), (1, 184), (1, 62)]</td>\n",
              "      <td>[(1, 245), (1, 221), (1, 204), (1, 184), (1, 62)]</td>\n",
              "      <td>True</td>\n",
              "    </tr>\n",
              "    <tr>\n",
              "      <th>3</th>\n",
              "      <td>empresa</td>\n",
              "      <td>[(10, 177), (9, 107), (6, 262), (4, 95), (3, 2...</td>\n",
              "      <td>[(10, 177), (9, 107), (6, 262), (4, 95), (3, 2...</td>\n",
              "      <td>True</td>\n",
              "    </tr>\n",
              "    <tr>\n",
              "      <th>4</th>\n",
              "      <td>bolsonaro</td>\n",
              "      <td>[(24, 100), (18, 70), (16, 66), (14, 252), (11...</td>\n",
              "      <td>[(24, 100), (18, 70), (16, 66), (14, 252), (11...</td>\n",
              "      <td>True</td>\n",
              "    </tr>\n",
              "  </tbody>\n",
              "</table>\n",
              "</div>"
            ],
            "text/plain": [
              "       consulta                                  documento_por_vez  \\\n",
              "0    presidente  [(20, 16), (13, 140), (9, 138), (9, 130), (9, ...   \n",
              "1      educação  [(9, 218), (3, 195), (2, 177), (2, 89), (1, 25...   \n",
              "2  privatização  [(1, 245), (1, 221), (1, 204), (1, 184), (1, 62)]   \n",
              "3       empresa  [(10, 177), (9, 107), (6, 262), (4, 95), (3, 2...   \n",
              "4     bolsonaro  [(24, 100), (18, 70), (16, 66), (14, 252), (11...   \n",
              "\n",
              "                                       termo_por_vez  comparacao  \n",
              "0  [(20, 16), (13, 140), (9, 138), (9, 130), (9, ...        True  \n",
              "1  [(9, 218), (3, 195), (2, 177), (2, 89), (1, 25...        True  \n",
              "2  [(1, 245), (1, 221), (1, 204), (1, 184), (1, 62)]        True  \n",
              "3  [(10, 177), (9, 107), (6, 262), (4, 95), (3, 2...        True  \n",
              "4  [(24, 100), (18, 70), (16, 66), (14, 252), (11...        True  "
            ]
          },
          "metadata": {
            "tags": []
          },
          "execution_count": 11
        }
      ]
    },
    {
      "cell_type": "code",
      "metadata": {
        "id": "skU1EOirNunN",
        "colab_type": "code",
        "colab": {
          "base_uri": "https://localhost:8080/",
          "height": 204
        },
        "outputId": "056536a2-a772-46c4-e517-03c101277410"
      },
      "source": [
        "# Comparando os tempos medios de de execucao e uso de memoria\n",
        "\n",
        "tabela_tempo = pd.DataFrame()\n",
        "tabela_tempo['tempo_médio_documento_por_vez'] = resultados_documento_tempo\n",
        "tabela_tempo['tempo_médio_termo_por_vez'] = resultados_termo_tempo\n",
        "tabela_tempo"
      ],
      "execution_count": 12,
      "outputs": [
        {
          "output_type": "execute_result",
          "data": {
            "text/html": [
              "<div>\n",
              "<style scoped>\n",
              "    .dataframe tbody tr th:only-of-type {\n",
              "        vertical-align: middle;\n",
              "    }\n",
              "\n",
              "    .dataframe tbody tr th {\n",
              "        vertical-align: top;\n",
              "    }\n",
              "\n",
              "    .dataframe thead th {\n",
              "        text-align: right;\n",
              "    }\n",
              "</style>\n",
              "<table border=\"1\" class=\"dataframe\">\n",
              "  <thead>\n",
              "    <tr style=\"text-align: right;\">\n",
              "      <th></th>\n",
              "      <th>tempo_médio_documento_por_vez</th>\n",
              "      <th>tempo_médio_termo_por_vez</th>\n",
              "    </tr>\n",
              "  </thead>\n",
              "  <tbody>\n",
              "    <tr>\n",
              "      <th>0</th>\n",
              "      <td>0.002136</td>\n",
              "      <td>0.000161</td>\n",
              "    </tr>\n",
              "    <tr>\n",
              "      <th>1</th>\n",
              "      <td>0.000454</td>\n",
              "      <td>0.000031</td>\n",
              "    </tr>\n",
              "    <tr>\n",
              "      <th>2</th>\n",
              "      <td>0.000146</td>\n",
              "      <td>0.000007</td>\n",
              "    </tr>\n",
              "    <tr>\n",
              "      <th>3</th>\n",
              "      <td>0.000505</td>\n",
              "      <td>0.000034</td>\n",
              "    </tr>\n",
              "    <tr>\n",
              "      <th>4</th>\n",
              "      <td>0.001980</td>\n",
              "      <td>0.000139</td>\n",
              "    </tr>\n",
              "  </tbody>\n",
              "</table>\n",
              "</div>"
            ],
            "text/plain": [
              "   tempo_médio_documento_por_vez  tempo_médio_termo_por_vez\n",
              "0                       0.002136                   0.000161\n",
              "1                       0.000454                   0.000031\n",
              "2                       0.000146                   0.000007\n",
              "3                       0.000505                   0.000034\n",
              "4                       0.001980                   0.000139"
            ]
          },
          "metadata": {
            "tags": []
          },
          "execution_count": 12
        }
      ]
    },
    {
      "cell_type": "markdown",
      "metadata": {
        "id": "aFmKI15_IUBG",
        "colab_type": "text"
      },
      "source": [
        "# Questão 3"
      ]
    },
    {
      "cell_type": "markdown",
      "metadata": {
        "id": "Q4n-nWDmIVpI",
        "colab_type": "text"
      },
      "source": [
        "Implemente uma das versões de consulta conjuntiva (AND) (Fig. 5.20 ou 5.21).\n",
        "\n",
        "1.  Defina 5 consultas conjuntivas (AND).\n",
        "2.  Execute as 5 consultas em cada algoritmo retornando os top-10 documentos (parâmetro k do algoritmo).\n",
        "3.  Dê evidências de que sua implementação está correta."
      ]
    },
    {
      "cell_type": "code",
      "metadata": {
        "id": "bnSMlpkzIi_w",
        "colab_type": "code",
        "colab": {}
      },
      "source": [
        "# Funcao que implementa a consulta conjuntiva (AND)\n",
        "\n",
        "def consulta_and(consulta, indices, k):\n",
        "  \n",
        "    indices_consulta = []\n",
        "    ranking = []\n",
        "  \n",
        "    for palavra in consulta.split(\" \"):\n",
        "        if palavra in indices.keys():\n",
        "            indices_consulta.append(indices[palavra])\n",
        "  \n",
        "    todas_as_consultas = [item for sublista in indices_consulta for item in sublista]\n",
        "    todas_as_consultas.sort()\n",
        "  \n",
        "    for i in range(len(todas_as_consultas)):\n",
        "        score_documento = 0\n",
        "    d = todas_as_consultas.pop()\n",
        "    for indice in todas_as_consultas:\n",
        "        if indice[0] == d[0]:\n",
        "            score_documento += indice[1] + d[1]\n",
        "        if score_documento != 0:\n",
        "            heapq.heappush(rank, (score_documento, d[0]))\n",
        "        \n",
        "    return heapq.nlargest(k, ranking)"
      ],
      "execution_count": 0,
      "outputs": []
    },
    {
      "cell_type": "code",
      "metadata": {
        "id": "oFSUypRtv1Hz",
        "colab_type": "code",
        "colab": {}
      },
      "source": [
        "# Definindo consultas\n",
        "\n",
        "consultas = [\"presidente\", \"educação\", \"privatização\", \"empresa\", \"bolsonaro\"]"
      ],
      "execution_count": 0,
      "outputs": []
    },
    {
      "cell_type": "code",
      "metadata": {
        "id": "FnY4VuNRv_Dr",
        "colab_type": "code",
        "colab": {
          "base_uri": "https://localhost:8080/",
          "height": 204
        },
        "outputId": "40989ece-1629-4c71-82ba-61c3781dfc11"
      },
      "source": [
        "# Criando e imprimindo a tabela com os dados dos documentos\n",
        "\n",
        "resultados_and = []\n",
        "k = 10\n",
        "\n",
        "for consulta in consultas:\n",
        "    resultados_and.append(consulta_and(consulta, indices, k))\n",
        "\n",
        "\n",
        "tabela_and = pd.DataFrame()\n",
        "tabela_and['consulta'] = consultas\n",
        "tabela_and['AND'] = resultados_and\n",
        "tabela_and"
      ],
      "execution_count": 15,
      "outputs": [
        {
          "output_type": "execute_result",
          "data": {
            "text/html": [
              "<div>\n",
              "<style scoped>\n",
              "    .dataframe tbody tr th:only-of-type {\n",
              "        vertical-align: middle;\n",
              "    }\n",
              "\n",
              "    .dataframe tbody tr th {\n",
              "        vertical-align: top;\n",
              "    }\n",
              "\n",
              "    .dataframe thead th {\n",
              "        text-align: right;\n",
              "    }\n",
              "</style>\n",
              "<table border=\"1\" class=\"dataframe\">\n",
              "  <thead>\n",
              "    <tr style=\"text-align: right;\">\n",
              "      <th></th>\n",
              "      <th>consulta</th>\n",
              "      <th>AND</th>\n",
              "    </tr>\n",
              "  </thead>\n",
              "  <tbody>\n",
              "    <tr>\n",
              "      <th>0</th>\n",
              "      <td>presidente</td>\n",
              "      <td>[]</td>\n",
              "    </tr>\n",
              "    <tr>\n",
              "      <th>1</th>\n",
              "      <td>educação</td>\n",
              "      <td>[]</td>\n",
              "    </tr>\n",
              "    <tr>\n",
              "      <th>2</th>\n",
              "      <td>privatização</td>\n",
              "      <td>[]</td>\n",
              "    </tr>\n",
              "    <tr>\n",
              "      <th>3</th>\n",
              "      <td>empresa</td>\n",
              "      <td>[]</td>\n",
              "    </tr>\n",
              "    <tr>\n",
              "      <th>4</th>\n",
              "      <td>bolsonaro</td>\n",
              "      <td>[]</td>\n",
              "    </tr>\n",
              "  </tbody>\n",
              "</table>\n",
              "</div>"
            ],
            "text/plain": [
              "       consulta AND\n",
              "0    presidente  []\n",
              "1      educação  []\n",
              "2  privatização  []\n",
              "3       empresa  []\n",
              "4     bolsonaro  []"
            ]
          },
          "metadata": {
            "tags": []
          },
          "execution_count": 15
        }
      ]
    }
  ]
}