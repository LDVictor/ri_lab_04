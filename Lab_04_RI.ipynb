{
  "nbformat": 4,
  "nbformat_minor": 0,
  "metadata": {
    "colab": {
      "name": "Lab_04_RI.ipynb",
      "version": "0.3.2",
      "provenance": []
    },
    "kernelspec": {
      "name": "python3",
      "display_name": "Python 3"
    }
  },
  "cells": [
    {
      "cell_type": "code",
      "metadata": {
        "id": "ExL1mOdL3H4S",
        "colab_type": "code",
        "colab": {
          "base_uri": "https://localhost:8080/",
          "height": 68
        },
        "outputId": "6515c253-55d7-4957-d8fb-d56e86795f42"
      },
      "source": [
        "import csv\n",
        "import pandas as pd\n",
        "import nltk\n",
        "import re\n",
        "import collections\n",
        "import matplotlib.pyplot as plt\n",
        "import seaborn as sns\n",
        "from nltk.tokenize import RegexpTokenizer\n",
        "from nltk.stem import PorterStemmer \n",
        "from nltk.tokenize import word_tokenize\n",
        "nltk.download('stopwords')"
      ],
      "execution_count": 16,
      "outputs": [
        {
          "output_type": "stream",
          "text": [
            "[nltk_data] Downloading package stopwords to /root/nltk_data...\n",
            "[nltk_data]   Package stopwords is already up-to-date!\n"
          ],
          "name": "stdout"
        },
        {
          "output_type": "execute_result",
          "data": {
            "text/plain": [
              "True"
            ]
          },
          "metadata": {
            "tags": []
          },
          "execution_count": 16
        }
      ]
    },
    {
      "cell_type": "code",
      "metadata": {
        "id": "ZEmsgxR33Xk2",
        "colab_type": "code",
        "colab": {}
      },
      "source": [
        "colecao = pd.read_csv('https://raw.githubusercontent.com/LDVictor/ri_lab_01/master/output/results.csv')\n",
        "colecao = colecao.astype(str)"
      ],
      "execution_count": 0,
      "outputs": []
    },
    {
      "cell_type": "markdown",
      "metadata": {
        "id": "JIp9PJAf3Yet",
        "colab_type": "text"
      },
      "source": [
        "# Laboratório 04: Indexação e Processamento de Consulta"
      ]
    },
    {
      "cell_type": "markdown",
      "metadata": {
        "id": "vi8AlEIn4hLB",
        "colab_type": "text"
      },
      "source": [
        "# Questão 1"
      ]
    },
    {
      "cell_type": "markdown",
      "metadata": {
        "id": "MoT8ShrD4lO3",
        "colab_type": "text"
      },
      "source": [
        "Execute o algoritmo ilustrado na Fig. 5.8 do livro texto (pag. 157) para gerar um índice similar o mostrado na Fig. 5.4 (pag. 134). Guarde o índice em disco em formato csv."
      ]
    },
    {
      "cell_type": "code",
      "metadata": {
        "id": "S1x0H94yC-nL",
        "colab_type": "code",
        "colab": {}
      },
      "source": [
        "palavras = []\n",
        "palavras_filtradas = []\n",
        "\n",
        "tokenizador = RegexpTokenizer(r'([A-Za-zÁáÉéÍíÓóÚúÃãÕõÇçÂâÊê]{3,27})')\n",
        "stpw = nltk.corpus.stopwords.words('portuguese')\n",
        "\n",
        "for texto in colecao.texto:\n",
        "  plvrs = [palavra for palavra in tokenizador.tokenize(texto.lower())\n",
        "           if len(palavra) >= 3 and not bool(re.search(r'\\d', palavra))]\n",
        "  palavras.extend(plvrs)\n",
        "  \n",
        "for palavra in palavras:\n",
        "  if palavra not in stpw:\n",
        "    palavras_filtradas.append(palavra)"
      ],
      "execution_count": 0,
      "outputs": []
    },
    {
      "cell_type": "code",
      "metadata": {
        "id": "eOBJf4-34qzV",
        "colab_type": "code",
        "colab": {}
      },
      "source": [
        "def buildIndex(palavras):\n",
        "  i = {}\n",
        "  n = 0\n",
        "  p = sorted(palavras_filtradas)\n",
        "  for documento in palavras:\n",
        "    n = n + 1\n",
        "    for token in p:\n",
        "      if token not in i.keys():\n",
        "        i[token] = []\n",
        "        i[token].append(n)\n",
        "  return i"
      ],
      "execution_count": 0,
      "outputs": []
    },
    {
      "cell_type": "code",
      "metadata": {
        "id": "_U-EXl0UEfEB",
        "colab_type": "code",
        "colab": {
          "base_uri": "https://localhost:8080/",
          "height": 282
        },
        "outputId": "b7d2e479-c1f5-413b-9e48-e161f2a9c215"
      },
      "source": [
        "print (buildIndex(palavras))"
      ],
      "execution_count": 24,
      "outputs": [
        {
          "output_type": "error",
          "ename": "KeyboardInterrupt",
          "evalue": "ignored",
          "traceback": [
            "\u001b[0;31m---------------------------------------------------------------------------\u001b[0m",
            "\u001b[0;31mKeyboardInterrupt\u001b[0m                         Traceback (most recent call last)",
            "\u001b[0;32m<ipython-input-24-60add2b2bfb5>\u001b[0m in \u001b[0;36m<module>\u001b[0;34m()\u001b[0m\n\u001b[0;32m----> 1\u001b[0;31m \u001b[0mprint\u001b[0m \u001b[0;34m(\u001b[0m\u001b[0mbuildIndex\u001b[0m\u001b[0;34m(\u001b[0m\u001b[0mpalavras\u001b[0m\u001b[0;34m)\u001b[0m\u001b[0;34m)\u001b[0m\u001b[0;34m\u001b[0m\u001b[0;34m\u001b[0m\u001b[0m\n\u001b[0m",
            "\u001b[0;32m<ipython-input-23-ebf09566f0eb>\u001b[0m in \u001b[0;36mbuildIndex\u001b[0;34m(palavras)\u001b[0m\n\u001b[1;32m      6\u001b[0m     \u001b[0mn\u001b[0m \u001b[0;34m=\u001b[0m \u001b[0mn\u001b[0m \u001b[0;34m+\u001b[0m \u001b[0;36m1\u001b[0m\u001b[0;34m\u001b[0m\u001b[0;34m\u001b[0m\u001b[0m\n\u001b[1;32m      7\u001b[0m     \u001b[0;32mfor\u001b[0m \u001b[0mtoken\u001b[0m \u001b[0;32min\u001b[0m \u001b[0mp\u001b[0m\u001b[0;34m:\u001b[0m\u001b[0;34m\u001b[0m\u001b[0;34m\u001b[0m\u001b[0m\n\u001b[0;32m----> 8\u001b[0;31m       \u001b[0;32mif\u001b[0m \u001b[0mtoken\u001b[0m \u001b[0;32mnot\u001b[0m \u001b[0;32min\u001b[0m \u001b[0mi\u001b[0m\u001b[0;34m.\u001b[0m\u001b[0mkeys\u001b[0m\u001b[0;34m(\u001b[0m\u001b[0;34m)\u001b[0m\u001b[0;34m:\u001b[0m\u001b[0;34m\u001b[0m\u001b[0;34m\u001b[0m\u001b[0m\n\u001b[0m\u001b[1;32m      9\u001b[0m         \u001b[0mi\u001b[0m\u001b[0;34m[\u001b[0m\u001b[0mtoken\u001b[0m\u001b[0;34m]\u001b[0m \u001b[0;34m=\u001b[0m \u001b[0;34m[\u001b[0m\u001b[0;34m]\u001b[0m\u001b[0;34m\u001b[0m\u001b[0;34m\u001b[0m\u001b[0m\n\u001b[1;32m     10\u001b[0m         \u001b[0mi\u001b[0m\u001b[0;34m[\u001b[0m\u001b[0mtoken\u001b[0m\u001b[0;34m]\u001b[0m\u001b[0;34m.\u001b[0m\u001b[0mappend\u001b[0m\u001b[0;34m(\u001b[0m\u001b[0mn\u001b[0m\u001b[0;34m)\u001b[0m\u001b[0;34m\u001b[0m\u001b[0;34m\u001b[0m\u001b[0m\n",
            "\u001b[0;31mKeyboardInterrupt\u001b[0m: "
          ]
        }
      ]
    },
    {
      "cell_type": "markdown",
      "metadata": {
        "id": "CkYf04WaHmWg",
        "colab_type": "text"
      },
      "source": [
        "# Questão 2"
      ]
    },
    {
      "cell_type": "markdown",
      "metadata": {
        "id": "lq-jRsGIHpkH",
        "colab_type": "text"
      },
      "source": [
        "Implemente as abordagens de processamento de consulta documento-por-vez e termo-por-vez.\n",
        "\n",
        "\n",
        "1.   Defina 5 consultas de um termo somente.\n",
        "2.   Execute as 5 consultas em cada algoritmo retornando os top-10 documentos (parâmetro k do algoritmo).\n",
        "3.   Dê evidências de que sua implementação está correta.\n",
        "4.   Compare os tempos médios de execução e uso de memória de cada algoritmo."
      ]
    },
    {
      "cell_type": "code",
      "metadata": {
        "id": "m0DHQDfjIN5M",
        "colab_type": "code",
        "colab": {}
      },
      "source": [
        "..."
      ],
      "execution_count": 0,
      "outputs": []
    },
    {
      "cell_type": "markdown",
      "metadata": {
        "id": "aFmKI15_IUBG",
        "colab_type": "text"
      },
      "source": [
        "# Questão 3"
      ]
    },
    {
      "cell_type": "markdown",
      "metadata": {
        "id": "Q4n-nWDmIVpI",
        "colab_type": "text"
      },
      "source": [
        "Implemente uma das versões de consulta conjuntiva (AND) (Fig. 5.20 ou 5.21).\n",
        "\n",
        "1.  Defina 5 consultas conjuntivas (AND).\n",
        "2.  Execute as 5 consultas em cada algoritmo retornando os top-10 documentos (parâmetro k do algoritmo).\n",
        "3.  Dê evidências de que sua implementação está correta."
      ]
    },
    {
      "cell_type": "code",
      "metadata": {
        "id": "bnSMlpkzIi_w",
        "colab_type": "code",
        "colab": {}
      },
      "source": [
        "..."
      ],
      "execution_count": 0,
      "outputs": []
    }
  ]
}