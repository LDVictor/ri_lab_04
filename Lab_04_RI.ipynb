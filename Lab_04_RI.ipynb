{
  "nbformat": 4,
  "nbformat_minor": 0,
  "metadata": {
    "colab": {
      "name": "Lab_04_RI.ipynb",
      "version": "0.3.2",
      "provenance": [],
      "collapsed_sections": []
    },
    "kernelspec": {
      "name": "python3",
      "display_name": "Python 3"
    }
  },
  "cells": [
    {
      "cell_type": "code",
      "metadata": {
        "id": "ExL1mOdL3H4S",
        "colab_type": "code",
        "outputId": "0441e4b1-654e-4895-802f-ab900a1f4e3a",
        "colab": {
          "base_uri": "https://localhost:8080/",
          "height": 255
        }
      },
      "source": [
        "# Imports\n",
        "import csv\n",
        "import pandas as pd\n",
        "import nltk\n",
        "import re\n",
        "import collections\n",
        "import matplotlib.pyplot as plt\n",
        "import seaborn as sns\n",
        "from nltk.tokenize import RegexpTokenizer\n",
        "from nltk.stem import PorterStemmer \n",
        "from nltk.tokenize import word_tokenize\n",
        "from nltk.corpus import stopwords\n",
        "nltk.download('stopwords')\n",
        "nltk.download('rslp')\n",
        "import matplotlib.pyplot as plt\n",
        "import heapq\n",
        "import time\n",
        "!pip install memory_profiler\n",
        "%load_ext memory_profiler"
      ],
      "execution_count": 1,
      "outputs": [
        {
          "output_type": "stream",
          "text": [
            "[nltk_data] Downloading package stopwords to /root/nltk_data...\n",
            "[nltk_data]   Unzipping corpora/stopwords.zip.\n",
            "[nltk_data] Downloading package rslp to /root/nltk_data...\n",
            "[nltk_data]   Unzipping stemmers/rslp.zip.\n",
            "Collecting memory_profiler\n",
            "\u001b[?25l  Downloading https://files.pythonhosted.org/packages/9f/fe/1fca7273dd111108f204a686b12a12b6422d405fe4614087aa7d5a66ea87/memory_profiler-0.55.0.tar.gz (40kB)\n",
            "\u001b[K     |████████████████████████████████| 40kB 5.1MB/s \n",
            "\u001b[?25hRequirement already satisfied: psutil in /usr/local/lib/python3.6/dist-packages (from memory_profiler) (5.4.8)\n",
            "Building wheels for collected packages: memory-profiler\n",
            "  Building wheel for memory-profiler (setup.py) ... \u001b[?25l\u001b[?25hdone\n",
            "  Stored in directory: /root/.cache/pip/wheels/f0/ff/63/fdbff3f1e1b76ad4eae491dd5b190902906b093e93eb86dd5a\n",
            "Successfully built memory-profiler\n",
            "Installing collected packages: memory-profiler\n",
            "Successfully installed memory-profiler-0.55.0\n"
          ],
          "name": "stdout"
        }
      ]
    },
    {
      "cell_type": "code",
      "metadata": {
        "id": "ZEmsgxR33Xk2",
        "colab_type": "code",
        "colab": {}
      },
      "source": [
        "# Lendo o CSV\n",
        "colecao = pd.read_csv('https://raw.githubusercontent.com/LDVictor/ri_lab_01/master/output/results.csv')\n",
        "colecao = colecao.astype(str)\n",
        "documentos = colecao['texto']"
      ],
      "execution_count": 0,
      "outputs": []
    },
    {
      "cell_type": "markdown",
      "metadata": {
        "id": "JIp9PJAf3Yet",
        "colab_type": "text"
      },
      "source": [
        "# Laboratório 04: Indexação e Processamento de Consulta"
      ]
    },
    {
      "cell_type": "markdown",
      "metadata": {
        "id": "vi8AlEIn4hLB",
        "colab_type": "text"
      },
      "source": [
        "# Questão 1"
      ]
    },
    {
      "cell_type": "markdown",
      "metadata": {
        "id": "MoT8ShrD4lO3",
        "colab_type": "text"
      },
      "source": [
        "Execute o algoritmo ilustrado na Fig. 5.8 do livro texto (pag. 157) para gerar um índice similar o mostrado na Fig. 5.4 (pag. 134). Guarde o índice em disco em formato csv."
      ]
    },
    {
      "cell_type": "code",
      "metadata": {
        "id": "S1x0H94yC-nL",
        "colab_type": "code",
        "colab": {}
      },
      "source": [
        "stopwords = stopwords.words(\"portuguese\")\n",
        "tokenizador = RegexpTokenizer(r'([A-Za-zÁáÉéÍíÓóÚúÃãÕõÇçÂâÊê]{3,27})')\n",
        "indices = {}\n",
        "n = 0\n",
        "\n",
        "for documento in documentos:\n",
        "    n += 1\n",
        "    tokens = tokenizador.tokenize(documento.lower())\n",
        "    for token in set(tokens):\n",
        "        if (token not in stopwords and len(token) >= 2):\n",
        "            contador = (n, tokens.count(token))\n",
        "            if (token not in indices.keys()):\n",
        "                  indices[token] = []\n",
        "                  indices[token].append(contador)\n",
        "            else:\n",
        "                  indices[token].append(contador)"
      ],
      "execution_count": 0,
      "outputs": []
    },
    {
      "cell_type": "code",
      "metadata": {
        "id": "WOyIEBbcGT5v",
        "colab_type": "code",
        "colab": {}
      },
      "source": [
        "# Guardando o indice em formato CSV\n",
        "inverted_index_df = pd.DataFrame.from_dict(indices, orient=\"index\")\n",
        "inverted_index_df.to_csv('data.csv')\n",
        "indices = indices"
      ],
      "execution_count": 0,
      "outputs": []
    },
    {
      "cell_type": "markdown",
      "metadata": {
        "id": "CkYf04WaHmWg",
        "colab_type": "text"
      },
      "source": [
        "# Questão 2"
      ]
    },
    {
      "cell_type": "markdown",
      "metadata": {
        "id": "lq-jRsGIHpkH",
        "colab_type": "text"
      },
      "source": [
        "Implemente as abordagens de processamento de consulta documento-por-vez e termo-por-vez.\n",
        "\n",
        "\n",
        "1.   Defina 5 consultas de um termo somente.\n",
        "2.   Execute as 5 consultas em cada algoritmo retornando os top-10 documentos (parâmetro k do algoritmo).\n",
        "3.   Dê evidências de que sua implementação está correta.\n",
        "4.   Compare os tempos médios de execução e uso de memória de cada algoritmo."
      ]
    },
    {
      "cell_type": "code",
      "metadata": {
        "id": "m0DHQDfjIN5M",
        "colab_type": "code",
        "colab": {
          "base_uri": "https://localhost:8080/",
          "height": 187
        },
        "outputId": "51e61e09-c905-476f-c1c6-e2d6bc5fa27d"
      },
      "source": [
        "# Funcao que implementa a consulta documento-por-vez\n",
        "def documentoPorVez(consulta, indices, k):\n",
        "    listas_invertidas = []\n",
        "    r = []\n",
        "    for palavra in consulta.split(\" \"):\n",
        "        if palavra in indices.keys():\n",
        "            listas_invertidas.append(indices[palavra])\n",
        "    for documento in range(1, len(documentos)+1):\n",
        "        sd = 0\n",
        "        for lista_invertida in listas_invertidas:\n",
        "            for i in lista_invertida:\n",
        "                if (i[0] == documento): \n",
        "                    sd += i[1]\n",
        "                    break\n",
        "        if (sd != 0):\n",
        "          heapq.heappush(r, (sd, documento))\n",
        "    return heapq.nlargest(k, r)\n",
        " \n",
        "# Exemplo\n",
        "documentoPorVez(\"bolsonaro\", indices, 10)  "
      ],
      "execution_count": 5,
      "outputs": [
        {
          "output_type": "execute_result",
          "data": {
            "text/plain": [
              "[(24, 100),\n",
              " (18, 70),\n",
              " (16, 66),\n",
              " (14, 252),\n",
              " (11, 179),\n",
              " (11, 103),\n",
              " (11, 20),\n",
              " (10, 16),\n",
              " (9, 220),\n",
              " (9, 130)]"
            ]
          },
          "metadata": {
            "tags": []
          },
          "execution_count": 5
        }
      ]
    },
    {
      "cell_type": "code",
      "metadata": {
        "id": "vd5Pjc1NKy3r",
        "colab_type": "code",
        "colab": {
          "base_uri": "https://localhost:8080/",
          "height": 187
        },
        "outputId": "9b691217-65f0-4ad3-cb35-746b70d17547"
      },
      "source": [
        "# Funcao que implementa a consulta termo-por-vez    \n",
        "def termoPorVez(consulta, indices, k):\n",
        "    a = {}\n",
        "    listas_invertidas = []\n",
        "    r = []\n",
        "    for palavra in consulta.split(\" \"):\n",
        "        if palavra in indices.keys():\n",
        "            listas_invertidas.append(indices[palavra])\n",
        "    for lista_invertida in listas_invertidas:\n",
        "        for p in lista_invertida:\n",
        "            d = p[0]\n",
        "            freq = p[1]\n",
        "            if (d in a.keys()):\n",
        "                a[d] += freq\n",
        "            else:\n",
        "                a[d] = freq\n",
        "    for (d, ad) in a.items():\n",
        "        sd = ad\n",
        "        heapq.heappush(r, (sd, d))\n",
        "    return heapq.nlargest(k, r)\n",
        "  \n",
        "# Exemplo  \n",
        "termoPorVez(\"bolsonaro\", indices, 10)"
      ],
      "execution_count": 6,
      "outputs": [
        {
          "output_type": "execute_result",
          "data": {
            "text/plain": [
              "[(24, 100),\n",
              " (18, 70),\n",
              " (16, 66),\n",
              " (14, 252),\n",
              " (11, 179),\n",
              " (11, 103),\n",
              " (11, 20),\n",
              " (10, 16),\n",
              " (9, 220),\n",
              " (9, 130)]"
            ]
          },
          "metadata": {
            "tags": []
          },
          "execution_count": 6
        }
      ]
    },
    {
      "cell_type": "code",
      "metadata": {
        "id": "k8JHs69jK3rH",
        "colab_type": "code",
        "colab": {}
      },
      "source": [
        " # Definindo consultas\n",
        "  \n",
        "consultas = [\"presidente\", \"educação\", \"privatização\", \"empresa\", \"bolsonaro\"]"
      ],
      "execution_count": 0,
      "outputs": []
    },
    {
      "cell_type": "code",
      "metadata": {
        "id": "qoI_mWhuLEaf",
        "colab_type": "code",
        "colab": {}
      },
      "source": [
        "# Executando as consultas \n",
        "\n",
        "resultados_documento = []\n",
        "resultados_termo = []\n",
        "resultados_documento_tempo = []\n",
        "resultados_termo_tempo = []\n",
        "k = 10\n",
        "\n",
        "for consulta in consultas:\n",
        "  inicio_documento = time.time()\n",
        "  resultados_documento.append(documentoPorVez(consulta, indices, k))\n",
        "  fim_documento = time.time()\n",
        "  resultados_documento_tempo.append(fim_documento - inicio_documento)\n",
        "  \n",
        "  inicio_termo = time.time()\n",
        "  resultados_termo.append(termoPorVez(consulta, indices, k))\n",
        "  fim_termo = time.time()\n",
        "  resultados_termo_tempo.append(fim_termo - inicio_termo)\n"
      ],
      "execution_count": 0,
      "outputs": []
    },
    {
      "cell_type": "code",
      "metadata": {
        "id": "r1NwXh10NUa8",
        "colab_type": "code",
        "colab": {
          "base_uri": "https://localhost:8080/",
          "height": 204
        },
        "outputId": "8da8cbf3-e35b-4aea-df45-579e44907217"
      },
      "source": [
        "# Criando e imprimindo a tabela com os dados dos documentos\n",
        "\n",
        "tabela_consultas = pd.DataFrame()\n",
        "tabela_consultas['consulta'] = consultas\n",
        "tabela_consultas['documento_por_vez'] = resultados_documento\n",
        "tabela_consultas['termo_por_vez'] = resultados_termo\n",
        "tabela_consultas['comparacao'] = tabela_consultas.documento_por_vez == tabela_consultas.termo_por_vez\n",
        "tabela_consultas.index += 1\n",
        "tabela_consultas"
      ],
      "execution_count": 9,
      "outputs": [
        {
          "output_type": "execute_result",
          "data": {
            "text/html": [
              "<div>\n",
              "<style scoped>\n",
              "    .dataframe tbody tr th:only-of-type {\n",
              "        vertical-align: middle;\n",
              "    }\n",
              "\n",
              "    .dataframe tbody tr th {\n",
              "        vertical-align: top;\n",
              "    }\n",
              "\n",
              "    .dataframe thead th {\n",
              "        text-align: right;\n",
              "    }\n",
              "</style>\n",
              "<table border=\"1\" class=\"dataframe\">\n",
              "  <thead>\n",
              "    <tr style=\"text-align: right;\">\n",
              "      <th></th>\n",
              "      <th>consulta</th>\n",
              "      <th>documento_por_vez</th>\n",
              "      <th>termo_por_vez</th>\n",
              "      <th>comparacao</th>\n",
              "    </tr>\n",
              "  </thead>\n",
              "  <tbody>\n",
              "    <tr>\n",
              "      <th>1</th>\n",
              "      <td>presidente</td>\n",
              "      <td>[(21, 16), (13, 140), (11, 138), (10, 100), (1...</td>\n",
              "      <td>[(21, 16), (13, 140), (11, 138), (10, 100), (1...</td>\n",
              "      <td>True</td>\n",
              "    </tr>\n",
              "    <tr>\n",
              "      <th>2</th>\n",
              "      <td>educação</td>\n",
              "      <td>[(9, 218), (3, 195), (2, 177), (2, 89), (1, 25...</td>\n",
              "      <td>[(9, 218), (3, 195), (2, 177), (2, 89), (1, 25...</td>\n",
              "      <td>True</td>\n",
              "    </tr>\n",
              "    <tr>\n",
              "      <th>3</th>\n",
              "      <td>privatização</td>\n",
              "      <td>[(1, 245), (1, 221), (1, 204), (1, 184), (1, 62)]</td>\n",
              "      <td>[(1, 245), (1, 221), (1, 204), (1, 184), (1, 62)]</td>\n",
              "      <td>True</td>\n",
              "    </tr>\n",
              "    <tr>\n",
              "      <th>4</th>\n",
              "      <td>empresa</td>\n",
              "      <td>[(10, 177), (9, 107), (6, 262), (4, 95), (3, 2...</td>\n",
              "      <td>[(10, 177), (9, 107), (6, 262), (4, 95), (3, 2...</td>\n",
              "      <td>True</td>\n",
              "    </tr>\n",
              "    <tr>\n",
              "      <th>5</th>\n",
              "      <td>bolsonaro</td>\n",
              "      <td>[(24, 100), (18, 70), (16, 66), (14, 252), (11...</td>\n",
              "      <td>[(24, 100), (18, 70), (16, 66), (14, 252), (11...</td>\n",
              "      <td>True</td>\n",
              "    </tr>\n",
              "  </tbody>\n",
              "</table>\n",
              "</div>"
            ],
            "text/plain": [
              "       consulta                                  documento_por_vez  \\\n",
              "1    presidente  [(21, 16), (13, 140), (11, 138), (10, 100), (1...   \n",
              "2      educação  [(9, 218), (3, 195), (2, 177), (2, 89), (1, 25...   \n",
              "3  privatização  [(1, 245), (1, 221), (1, 204), (1, 184), (1, 62)]   \n",
              "4       empresa  [(10, 177), (9, 107), (6, 262), (4, 95), (3, 2...   \n",
              "5     bolsonaro  [(24, 100), (18, 70), (16, 66), (14, 252), (11...   \n",
              "\n",
              "                                       termo_por_vez  comparacao  \n",
              "1  [(21, 16), (13, 140), (11, 138), (10, 100), (1...        True  \n",
              "2  [(9, 218), (3, 195), (2, 177), (2, 89), (1, 25...        True  \n",
              "3  [(1, 245), (1, 221), (1, 204), (1, 184), (1, 62)]        True  \n",
              "4  [(10, 177), (9, 107), (6, 262), (4, 95), (3, 2...        True  \n",
              "5  [(24, 100), (18, 70), (16, 66), (14, 252), (11...        True  "
            ]
          },
          "metadata": {
            "tags": []
          },
          "execution_count": 9
        }
      ]
    },
    {
      "cell_type": "code",
      "metadata": {
        "id": "skU1EOirNunN",
        "colab_type": "code",
        "colab": {
          "base_uri": "https://localhost:8080/",
          "height": 204
        },
        "outputId": "7a020733-e8a3-499e-b5d0-9864445fb67e"
      },
      "source": [
        "# Comparando os tempos medios de de execucao\n",
        "\n",
        "tabela_tempo = pd.DataFrame()\n",
        "tabela_tempo['tempo_médio_documento_por_vez'] = resultados_documento_tempo\n",
        "tabela_tempo['tempo_médio_termo_por_vez'] = resultados_termo_tempo\n",
        "tabela_tempo.index += 1\n",
        "tabela_tempo"
      ],
      "execution_count": 10,
      "outputs": [
        {
          "output_type": "execute_result",
          "data": {
            "text/html": [
              "<div>\n",
              "<style scoped>\n",
              "    .dataframe tbody tr th:only-of-type {\n",
              "        vertical-align: middle;\n",
              "    }\n",
              "\n",
              "    .dataframe tbody tr th {\n",
              "        vertical-align: top;\n",
              "    }\n",
              "\n",
              "    .dataframe thead th {\n",
              "        text-align: right;\n",
              "    }\n",
              "</style>\n",
              "<table border=\"1\" class=\"dataframe\">\n",
              "  <thead>\n",
              "    <tr style=\"text-align: right;\">\n",
              "      <th></th>\n",
              "      <th>tempo_médio_documento_por_vez</th>\n",
              "      <th>tempo_médio_termo_por_vez</th>\n",
              "    </tr>\n",
              "  </thead>\n",
              "  <tbody>\n",
              "    <tr>\n",
              "      <th>1</th>\n",
              "      <td>0.002077</td>\n",
              "      <td>0.000160</td>\n",
              "    </tr>\n",
              "    <tr>\n",
              "      <th>2</th>\n",
              "      <td>0.000437</td>\n",
              "      <td>0.000031</td>\n",
              "    </tr>\n",
              "    <tr>\n",
              "      <th>3</th>\n",
              "      <td>0.000134</td>\n",
              "      <td>0.000007</td>\n",
              "    </tr>\n",
              "    <tr>\n",
              "      <th>4</th>\n",
              "      <td>0.000468</td>\n",
              "      <td>0.000034</td>\n",
              "    </tr>\n",
              "    <tr>\n",
              "      <th>5</th>\n",
              "      <td>0.001894</td>\n",
              "      <td>0.000192</td>\n",
              "    </tr>\n",
              "  </tbody>\n",
              "</table>\n",
              "</div>"
            ],
            "text/plain": [
              "   tempo_médio_documento_por_vez  tempo_médio_termo_por_vez\n",
              "1                       0.002077                   0.000160\n",
              "2                       0.000437                   0.000031\n",
              "3                       0.000134                   0.000007\n",
              "4                       0.000468                   0.000034\n",
              "5                       0.001894                   0.000192"
            ]
          },
          "metadata": {
            "tags": []
          },
          "execution_count": 10
        }
      ]
    },
    {
      "cell_type": "code",
      "metadata": {
        "id": "1TC-ilNz6jjH",
        "colab_type": "code",
        "colab": {
          "base_uri": "https://localhost:8080/",
          "height": 102
        },
        "outputId": "148ce1a4-e11d-4446-bdd4-cac87c88a14e"
      },
      "source": [
        "# Comparando o uso de memória\n",
        "\n",
        "print('Uso de memória em Documento Por Vez:')\n",
        "%memit termoPorVez(consultas[0], indices, k)\n",
        "print(' ')\n",
        "print('Uso de memória em Termo Por Vez:')\n",
        "%memit termoPorVez(consultas[0], indices, k)"
      ],
      "execution_count": 11,
      "outputs": [
        {
          "output_type": "stream",
          "text": [
            "Uso de memória em Documento Por Vez:\n",
            "peak memory: 235.73 MiB, increment: 0.08 MiB\n",
            " \n",
            "Uso de memória em Termo Por Vez:\n",
            "peak memory: 235.73 MiB, increment: 0.00 MiB\n"
          ],
          "name": "stdout"
        }
      ]
    },
    {
      "cell_type": "markdown",
      "metadata": {
        "id": "aFmKI15_IUBG",
        "colab_type": "text"
      },
      "source": [
        "# Questão 3"
      ]
    },
    {
      "cell_type": "markdown",
      "metadata": {
        "id": "Q4n-nWDmIVpI",
        "colab_type": "text"
      },
      "source": [
        "Implemente uma das versões de consulta conjuntiva (AND) (Fig. 5.20 ou 5.21).\n",
        "\n",
        "1.  Defina 5 consultas conjuntivas (AND).\n",
        "2.  Execute as 5 consultas em cada algoritmo retornando os top-10 documentos (parâmetro k do algoritmo).\n",
        "3.  Dê evidências de que sua implementação está correta."
      ]
    },
    {
      "cell_type": "code",
      "metadata": {
        "id": "bnSMlpkzIi_w",
        "colab_type": "code",
        "colab": {}
      },
      "source": [
        "# Funcao que implementa a consulta conjuntiva (AND)\n",
        "\n",
        "def consulta_and(consulta, indices, k):\n",
        "  \n",
        "  indices_consulta = []\n",
        "  ranking = []\n",
        "  \n",
        "  for palavra in consulta.split(\" \"):\n",
        "    if palavra in indices.keys():\n",
        "        indices_consulta.append(indices[palavra])\n",
        "  \n",
        "  todos_os_indices = [item for sublista in indices_consulta for item in sublista]\n",
        "  todos_os_indices.sort()\n",
        "  \n",
        "  for i in range(len(todos_os_indices)):\n",
        "    score_documento = 0\n",
        "    d = todos_os_indices.pop()\n",
        "    cont = 1\n",
        "    for indice in todos_os_indices:\n",
        "      if indice[0] == d[0]:\n",
        "        score_documento += indice[1]\n",
        "        cont += 1\n",
        "    if score_documento != 0 and cont == len(indices_consulta):\n",
        "      score_documento += d[1]\n",
        "      heapq.heappush(ranking, (score_documento, d[0]))\n",
        "        \n",
        "  return heapq.nlargest(k, ranking)"
      ],
      "execution_count": 0,
      "outputs": []
    },
    {
      "cell_type": "code",
      "metadata": {
        "id": "oFSUypRtv1Hz",
        "colab_type": "code",
        "colab": {}
      },
      "source": [
        "# Definindo consultas\n",
        "\n",
        "consultas_and = [\"presidente\", \"saúde\", \"privatização\", \"direita\", \"bolsonaro\"]"
      ],
      "execution_count": 0,
      "outputs": []
    },
    {
      "cell_type": "code",
      "metadata": {
        "id": "FnY4VuNRv_Dr",
        "colab_type": "code",
        "colab": {
          "base_uri": "https://localhost:8080/",
          "height": 204
        },
        "outputId": "9cfc2b83-a87a-49d0-b3bd-3ba5fb0a9279"
      },
      "source": [
        "# Criando e imprimindo a tabela com os dados dos documentos\n",
        "\n",
        "k = 10\n",
        "resultados_and = []\n",
        "\n",
        "for consulta in consultas_and:\n",
        "  score_and = consulta_and(consulta, indices, k)\n",
        "  resultados_and.append(score_and)\n",
        "\n",
        "\n",
        "tabela_and = pd.DataFrame()\n",
        "tabela_and['consulta'] = consultas\n",
        "tabela_and['AND'] = resultados_and\n",
        "tabela_and.index += 1\n",
        "tabela_and"
      ],
      "execution_count": 15,
      "outputs": [
        {
          "output_type": "execute_result",
          "data": {
            "text/html": [
              "<div>\n",
              "<style scoped>\n",
              "    .dataframe tbody tr th:only-of-type {\n",
              "        vertical-align: middle;\n",
              "    }\n",
              "\n",
              "    .dataframe tbody tr th {\n",
              "        vertical-align: top;\n",
              "    }\n",
              "\n",
              "    .dataframe thead th {\n",
              "        text-align: right;\n",
              "    }\n",
              "</style>\n",
              "<table border=\"1\" class=\"dataframe\">\n",
              "  <thead>\n",
              "    <tr style=\"text-align: right;\">\n",
              "      <th></th>\n",
              "      <th>consulta</th>\n",
              "      <th>AND</th>\n",
              "    </tr>\n",
              "  </thead>\n",
              "  <tbody>\n",
              "    <tr>\n",
              "      <th>1</th>\n",
              "      <td>presidente</td>\n",
              "      <td>[]</td>\n",
              "    </tr>\n",
              "    <tr>\n",
              "      <th>2</th>\n",
              "      <td>educação</td>\n",
              "      <td>[]</td>\n",
              "    </tr>\n",
              "    <tr>\n",
              "      <th>3</th>\n",
              "      <td>privatização</td>\n",
              "      <td>[]</td>\n",
              "    </tr>\n",
              "    <tr>\n",
              "      <th>4</th>\n",
              "      <td>empresa</td>\n",
              "      <td>[]</td>\n",
              "    </tr>\n",
              "    <tr>\n",
              "      <th>5</th>\n",
              "      <td>bolsonaro</td>\n",
              "      <td>[]</td>\n",
              "    </tr>\n",
              "  </tbody>\n",
              "</table>\n",
              "</div>"
            ],
            "text/plain": [
              "       consulta AND\n",
              "1    presidente  []\n",
              "2      educação  []\n",
              "3  privatização  []\n",
              "4       empresa  []\n",
              "5     bolsonaro  []"
            ]
          },
          "metadata": {
            "tags": []
          },
          "execution_count": 15
        }
      ]
    },
    {
      "cell_type": "markdown",
      "metadata": {
        "id": "iQK3phG89-fu",
        "colab_type": "text"
      },
      "source": [
        "**Resposta da questão 3.3:** No exemplo a seguir, pode-se perceber a lista invertida de cada termo e visualizar que todos os termos aparecem apenas no primeiro documento. Sendo assim, o algoritmo faz a soma dos scores de cada termo, atuibuindo como score do documento no resultado. "
      ]
    },
    {
      "cell_type": "code",
      "metadata": {
        "id": "yfE3Wh77-bRz",
        "colab_type": "code",
        "colab": {
          "base_uri": "https://localhost:8080/",
          "height": 204
        },
        "outputId": "298afc9f-a371-4b74-ef11-5df11aa62eaf"
      },
      "source": [
        "consulta = \"governo quer investir educação\"\n",
        "termos_consulta = consulta.split()\n",
        "indices_termos = [indices[termo] for termo in termos_consulta]\n",
        "  \n",
        "score_and = consulta_and(consulta, indices, 10)\n",
        "#score_and = (score_and[0][::-1])\n",
        "\n",
        "termos_consulta.append('')\n",
        "indices_termos.append('')\n",
        "a = ['', '', '', '', consulta]\n",
        "b = ['', '', '', '', score_and]\n",
        "\n",
        "tabela_q3 = pd.DataFrame()\n",
        "tabela_q3['termos'] = termos_consulta\n",
        "tabela_q3['lista_invertida'] = indices_termos\n",
        "tabela_q3['consulta'] = a\n",
        "tabela_q3['resultado'] = b\n",
        "tabela_q3.index += 1\n",
        "tabela_q3"
      ],
      "execution_count": 16,
      "outputs": [
        {
          "output_type": "execute_result",
          "data": {
            "text/html": [
              "<div>\n",
              "<style scoped>\n",
              "    .dataframe tbody tr th:only-of-type {\n",
              "        vertical-align: middle;\n",
              "    }\n",
              "\n",
              "    .dataframe tbody tr th {\n",
              "        vertical-align: top;\n",
              "    }\n",
              "\n",
              "    .dataframe thead th {\n",
              "        text-align: right;\n",
              "    }\n",
              "</style>\n",
              "<table border=\"1\" class=\"dataframe\">\n",
              "  <thead>\n",
              "    <tr style=\"text-align: right;\">\n",
              "      <th></th>\n",
              "      <th>termos</th>\n",
              "      <th>lista_invertida</th>\n",
              "      <th>consulta</th>\n",
              "      <th>resultado</th>\n",
              "    </tr>\n",
              "  </thead>\n",
              "  <tbody>\n",
              "    <tr>\n",
              "      <th>1</th>\n",
              "      <td>governo</td>\n",
              "      <td>[(1, 4), (5, 3), (6, 1), (8, 2), (10, 1), (12,...</td>\n",
              "      <td></td>\n",
              "      <td></td>\n",
              "    </tr>\n",
              "    <tr>\n",
              "      <th>2</th>\n",
              "      <td>quer</td>\n",
              "      <td>[(15, 1), (17, 1), (18, 2), (20, 1), (25, 2), ...</td>\n",
              "      <td></td>\n",
              "      <td></td>\n",
              "    </tr>\n",
              "    <tr>\n",
              "      <th>3</th>\n",
              "      <td>investir</td>\n",
              "      <td>[(267, 1)]</td>\n",
              "      <td></td>\n",
              "      <td></td>\n",
              "    </tr>\n",
              "    <tr>\n",
              "      <th>4</th>\n",
              "      <td>educação</td>\n",
              "      <td>[(4, 1), (7, 1), (15, 1), (22, 1), (58, 1), (6...</td>\n",
              "      <td></td>\n",
              "      <td></td>\n",
              "    </tr>\n",
              "    <tr>\n",
              "      <th>5</th>\n",
              "      <td></td>\n",
              "      <td></td>\n",
              "      <td>governo quer investir educação</td>\n",
              "      <td>[]</td>\n",
              "    </tr>\n",
              "  </tbody>\n",
              "</table>\n",
              "</div>"
            ],
            "text/plain": [
              "     termos                                    lista_invertida  \\\n",
              "1   governo  [(1, 4), (5, 3), (6, 1), (8, 2), (10, 1), (12,...   \n",
              "2      quer  [(15, 1), (17, 1), (18, 2), (20, 1), (25, 2), ...   \n",
              "3  investir                                         [(267, 1)]   \n",
              "4  educação  [(4, 1), (7, 1), (15, 1), (22, 1), (58, 1), (6...   \n",
              "5                                                                \n",
              "\n",
              "                         consulta resultado  \n",
              "1                                            \n",
              "2                                            \n",
              "3                                            \n",
              "4                                            \n",
              "5  governo quer investir educação        []  "
            ]
          },
          "metadata": {
            "tags": []
          },
          "execution_count": 16
        }
      ]
    }
  ]
}